{
 "cells": [
  {
   "cell_type": "markdown",
   "id": "synthetic-boxing",
   "metadata": {},
   "source": [
    "# Capacités numériques en physique\n",
    "Voici des corrigés des recueils des activités sur les capacités numériques pour l'année.\n",
    "\n",
    "\n",
    "```{toctree}\n",
    ":hidden:\n",
    ":titlesonly:\n",
    ":numbered: True\n",
    "\n",
    "signal_fourier_correction.md\n",
    "elec_reponse_o1_correction.md\n",
    "elec_filtrage_correction.md\n",
    "meca_non_lineaire_correction.md\n",
    "meca_pendule_correction.md\n",
    "meca_force_centrale_correction.md\n",
    "thermo_statique_correction.md\n",
    "```"
   ]
  }
 ],
 "metadata": {
  "jupytext": {
   "encoding": "# -*- coding: utf-8 -*-",
   "formats": "ipynb,md:myst",
   "split_at_heading": true,
   "text_representation": {
    "extension": ".md",
    "format_name": "myst",
    "format_version": 0.13,
    "jupytext_version": "1.10.3"
   }
  },
  "kernelspec": {
   "display_name": "Python 3",
   "language": "python",
   "name": "python3"
  },
  "language_info": {
   "codemirror_mode": {
    "name": "ipython",
    "version": 3
   },
   "file_extension": ".py",
   "mimetype": "text/x-python",
   "name": "python",
   "nbconvert_exporter": "python",
   "pygments_lexer": "ipython3",
   "version": "3.9.2"
  },
  "source_map": [
   15
  ]
 },
 "nbformat": 4,
 "nbformat_minor": 5
}